{
 "cells": [
  {
   "cell_type": "markdown",
   "metadata": {},
   "source": [
    "## First we want to import the 'pandas' library  as 'pd'##"
   ]
  },
  {
   "cell_type": "code",
   "execution_count": 1,
   "metadata": {},
   "outputs": [],
   "source": [
    "import pandas as pd"
   ]
  },
  {
   "cell_type": "markdown",
   "metadata": {},
   "source": [
    "**After we import the pandas library we want to load in our dataset using the pd.read_csv() function and assign that to a variable.**"
   ]
  },
  {
   "cell_type": "code",
   "execution_count": 2,
   "metadata": {},
   "outputs": [],
   "source": [
    "songs_1978 = pd.read_csv(\"../../datasets/billboard_1978.csv\")"
   ]
  },
  {
   "cell_type": "markdown",
   "metadata": {},
   "source": [
    "**Now when we call that dataset using the given variable name (songs_1978)\n",
    "with that variable we want to request the top ten songs of 1978 using the .head()\"head meaning the top of the dataset\" function and passing through 10 as an 'arg' to recieve the top 10 songs(if no # is pass through the function you will recieve the first 5 items of the dataset standard) \n",
    "Dataset rows/columns always start with at 0,1,2 and so on.**"
   ]
  },
  {
   "cell_type": "code",
   "execution_count": 3,
   "metadata": {},
   "outputs": [
    {
     "data": {
      "text/html": [
       "<div>\n",
       "<style scoped>\n",
       "    .dataframe tbody tr th:only-of-type {\n",
       "        vertical-align: middle;\n",
       "    }\n",
       "\n",
       "    .dataframe tbody tr th {\n",
       "        vertical-align: top;\n",
       "    }\n",
       "\n",
       "    .dataframe thead th {\n",
       "        text-align: right;\n",
       "    }\n",
       "</style>\n",
       "<table border=\"1\" class=\"dataframe\">\n",
       "  <thead>\n",
       "    <tr style=\"text-align: right;\">\n",
       "      <th></th>\n",
       "      <th>Year</th>\n",
       "      <th>Hot_Singles_Rank</th>\n",
       "      <th>Title</th>\n",
       "      <th>Artist</th>\n",
       "      <th>Genre</th>\n",
       "      <th>Weeks_On_Chart</th>\n",
       "      <th>Peak_Chart_Position</th>\n",
       "      <th>Maj_Min</th>\n",
       "      <th>BPM</th>\n",
       "    </tr>\n",
       "  </thead>\n",
       "  <tbody>\n",
       "    <tr>\n",
       "      <th>0</th>\n",
       "      <td>1978</td>\n",
       "      <td>1</td>\n",
       "      <td>\"Shadow Dancing\"</td>\n",
       "      <td>Andy Gibb</td>\n",
       "      <td>Pop</td>\n",
       "      <td>25</td>\n",
       "      <td>1</td>\n",
       "      <td>Min</td>\n",
       "      <td>102</td>\n",
       "    </tr>\n",
       "    <tr>\n",
       "      <th>1</th>\n",
       "      <td>1978</td>\n",
       "      <td>2</td>\n",
       "      <td>\"Night Fever\"</td>\n",
       "      <td>Bee Gees</td>\n",
       "      <td>Pop</td>\n",
       "      <td>20</td>\n",
       "      <td>1</td>\n",
       "      <td>Min</td>\n",
       "      <td>110</td>\n",
       "    </tr>\n",
       "    <tr>\n",
       "      <th>2</th>\n",
       "      <td>1978</td>\n",
       "      <td>3</td>\n",
       "      <td>\"You Light Up My Life\"</td>\n",
       "      <td>Debby Boone</td>\n",
       "      <td>Country</td>\n",
       "      <td>25</td>\n",
       "      <td>1</td>\n",
       "      <td>Maj</td>\n",
       "      <td>78</td>\n",
       "    </tr>\n",
       "    <tr>\n",
       "      <th>3</th>\n",
       "      <td>1978</td>\n",
       "      <td>4</td>\n",
       "      <td>\"Stayin' Alive\"</td>\n",
       "      <td>Bee Gees</td>\n",
       "      <td>Pop</td>\n",
       "      <td>27</td>\n",
       "      <td>1</td>\n",
       "      <td>Min</td>\n",
       "      <td>103</td>\n",
       "    </tr>\n",
       "    <tr>\n",
       "      <th>4</th>\n",
       "      <td>1978</td>\n",
       "      <td>5</td>\n",
       "      <td>\"Kiss You All Over\"</td>\n",
       "      <td>Exile</td>\n",
       "      <td>Country</td>\n",
       "      <td>23</td>\n",
       "      <td>1</td>\n",
       "      <td>Maj</td>\n",
       "      <td>104</td>\n",
       "    </tr>\n",
       "    <tr>\n",
       "      <th>5</th>\n",
       "      <td>1978</td>\n",
       "      <td>6</td>\n",
       "      <td>\"How Deep Is Your Love\"</td>\n",
       "      <td>Bee Gees</td>\n",
       "      <td>Pop</td>\n",
       "      <td>33</td>\n",
       "      <td>1</td>\n",
       "      <td>Maj</td>\n",
       "      <td>105</td>\n",
       "    </tr>\n",
       "    <tr>\n",
       "      <th>6</th>\n",
       "      <td>1978</td>\n",
       "      <td>7</td>\n",
       "      <td>\"Baby Come Back\"</td>\n",
       "      <td>Player</td>\n",
       "      <td>Pop</td>\n",
       "      <td>32</td>\n",
       "      <td>1</td>\n",
       "      <td>Maj</td>\n",
       "      <td>78</td>\n",
       "    </tr>\n",
       "    <tr>\n",
       "      <th>7</th>\n",
       "      <td>1978</td>\n",
       "      <td>8</td>\n",
       "      <td>\"(Love Is) Thicker Than Water\"</td>\n",
       "      <td>Andy Gibb</td>\n",
       "      <td>Pop</td>\n",
       "      <td>29</td>\n",
       "      <td>1</td>\n",
       "      <td>Min</td>\n",
       "      <td>96</td>\n",
       "    </tr>\n",
       "    <tr>\n",
       "      <th>8</th>\n",
       "      <td>1978</td>\n",
       "      <td>9</td>\n",
       "      <td>\"Boogie Oogie Oogie\"</td>\n",
       "      <td>A Taste of Honey</td>\n",
       "      <td>R&amp;B/Soul</td>\n",
       "      <td>23</td>\n",
       "      <td>1</td>\n",
       "      <td>Min</td>\n",
       "      <td>126</td>\n",
       "    </tr>\n",
       "    <tr>\n",
       "      <th>9</th>\n",
       "      <td>1978</td>\n",
       "      <td>10</td>\n",
       "      <td>\"Three Times a Lady\"</td>\n",
       "      <td>Commodores</td>\n",
       "      <td>R&amp;B/Soul</td>\n",
       "      <td>20</td>\n",
       "      <td>1</td>\n",
       "      <td>Maj</td>\n",
       "      <td>76</td>\n",
       "    </tr>\n",
       "  </tbody>\n",
       "</table>\n",
       "</div>"
      ],
      "text/plain": [
       "   Year  Hot_Singles_Rank                           Title            Artist  \\\n",
       "0  1978                 1                \"Shadow Dancing\"         Andy Gibb   \n",
       "1  1978                 2                   \"Night Fever\"          Bee Gees   \n",
       "2  1978                 3          \"You Light Up My Life\"       Debby Boone   \n",
       "3  1978                 4                 \"Stayin' Alive\"          Bee Gees   \n",
       "4  1978                 5             \"Kiss You All Over\"             Exile   \n",
       "5  1978                 6         \"How Deep Is Your Love\"          Bee Gees   \n",
       "6  1978                 7                \"Baby Come Back\"            Player   \n",
       "7  1978                 8  \"(Love Is) Thicker Than Water\"         Andy Gibb   \n",
       "8  1978                 9            \"Boogie Oogie Oogie\"  A Taste of Honey   \n",
       "9  1978                10            \"Three Times a Lady\"        Commodores   \n",
       "\n",
       "      Genre Weeks_On_Chart  Peak_Chart_Position Maj_Min  BPM  \n",
       "0       Pop             25                    1     Min  102  \n",
       "1       Pop             20                    1     Min  110  \n",
       "2   Country             25                    1     Maj   78  \n",
       "3       Pop             27                    1     Min  103  \n",
       "4   Country             23                    1     Maj  104  \n",
       "5       Pop             33                    1     Maj  105  \n",
       "6       Pop             32                    1     Maj   78  \n",
       "7       Pop             29                    1     Min   96  \n",
       "8  R&B/Soul             23                    1     Min  126  \n",
       "9  R&B/Soul             20                    1     Maj   76  "
      ]
     },
     "execution_count": 3,
     "metadata": {},
     "output_type": "execute_result"
    }
   ],
   "source": [
    "songs_1978.head(10)"
   ]
  },
  {
   "cell_type": "markdown",
   "metadata": {},
   "source": [
    "**And just like the .head() function we have a .tail() which give the bottom 5 items in the dataset standard if no 'arg' is pass through the function. but in this case we want to pass through 10 as the 'arg' to recieve the last 10 songs of 1978**"
   ]
  },
  {
   "cell_type": "code",
   "execution_count": 4,
   "metadata": {},
   "outputs": [
    {
     "data": {
      "text/html": [
       "<div>\n",
       "<style scoped>\n",
       "    .dataframe tbody tr th:only-of-type {\n",
       "        vertical-align: middle;\n",
       "    }\n",
       "\n",
       "    .dataframe tbody tr th {\n",
       "        vertical-align: top;\n",
       "    }\n",
       "\n",
       "    .dataframe thead th {\n",
       "        text-align: right;\n",
       "    }\n",
       "</style>\n",
       "<table border=\"1\" class=\"dataframe\">\n",
       "  <thead>\n",
       "    <tr style=\"text-align: right;\">\n",
       "      <th></th>\n",
       "      <th>Year</th>\n",
       "      <th>Hot_Singles_Rank</th>\n",
       "      <th>Title</th>\n",
       "      <th>Artist</th>\n",
       "      <th>Genre</th>\n",
       "      <th>Weeks_On_Chart</th>\n",
       "      <th>Peak_Chart_Position</th>\n",
       "      <th>Maj_Min</th>\n",
       "      <th>BPM</th>\n",
       "    </tr>\n",
       "  </thead>\n",
       "  <tbody>\n",
       "    <tr>\n",
       "      <th>90</th>\n",
       "      <td>1978</td>\n",
       "      <td>91</td>\n",
       "      <td>\"Native New Yorker\"</td>\n",
       "      <td>Odyssey</td>\n",
       "      <td>Pop</td>\n",
       "      <td>19</td>\n",
       "      <td>21</td>\n",
       "      <td>Maj</td>\n",
       "      <td>110</td>\n",
       "    </tr>\n",
       "    <tr>\n",
       "      <th>91</th>\n",
       "      <td>1978</td>\n",
       "      <td>92</td>\n",
       "      <td>\"Flash Light\"</td>\n",
       "      <td>Parliament</td>\n",
       "      <td>R&amp;B/Soul</td>\n",
       "      <td>16</td>\n",
       "      <td>16</td>\n",
       "      <td>Maj</td>\n",
       "      <td>106</td>\n",
       "    </tr>\n",
       "    <tr>\n",
       "      <th>92</th>\n",
       "      <td>1978</td>\n",
       "      <td>93</td>\n",
       "      <td>\"Don't Look Back\"</td>\n",
       "      <td>Boston</td>\n",
       "      <td>Rock</td>\n",
       "      <td>13</td>\n",
       "      <td>4</td>\n",
       "      <td>Maj</td>\n",
       "      <td>122</td>\n",
       "    </tr>\n",
       "    <tr>\n",
       "      <th>93</th>\n",
       "      <td>1978</td>\n",
       "      <td>94</td>\n",
       "      <td>\"Turn to Stone\"</td>\n",
       "      <td>Electric Light Orchestra</td>\n",
       "      <td>Rock</td>\n",
       "      <td>15</td>\n",
       "      <td>13</td>\n",
       "      <td>Maj</td>\n",
       "      <td>138</td>\n",
       "    </tr>\n",
       "    <tr>\n",
       "      <th>94</th>\n",
       "      <td>1978</td>\n",
       "      <td>95</td>\n",
       "      <td>\"I Can't Stand the Rain\"</td>\n",
       "      <td>Eruption</td>\n",
       "      <td>Pop</td>\n",
       "      <td>22</td>\n",
       "      <td>18</td>\n",
       "      <td>Maj</td>\n",
       "      <td>108</td>\n",
       "    </tr>\n",
       "    <tr>\n",
       "      <th>95</th>\n",
       "      <td>1978</td>\n",
       "      <td>96</td>\n",
       "      <td>\"Ebony Eyes\"</td>\n",
       "      <td>Bob Welch</td>\n",
       "      <td>Rock</td>\n",
       "      <td>17</td>\n",
       "      <td>14</td>\n",
       "      <td>Maj</td>\n",
       "      <td>118</td>\n",
       "    </tr>\n",
       "    <tr>\n",
       "      <th>96</th>\n",
       "      <td>1978</td>\n",
       "      <td>97</td>\n",
       "      <td>\"The Name of the Game\"</td>\n",
       "      <td>ABBA</td>\n",
       "      <td>Pop</td>\n",
       "      <td>16</td>\n",
       "      <td>12</td>\n",
       "      <td>Maj</td>\n",
       "      <td>76</td>\n",
       "    </tr>\n",
       "    <tr>\n",
       "      <th>97</th>\n",
       "      <td>1978</td>\n",
       "      <td>98</td>\n",
       "      <td>\"We're All Alone\"</td>\n",
       "      <td>Rita Coolidge</td>\n",
       "      <td>Pop</td>\n",
       "      <td>20</td>\n",
       "      <td>7</td>\n",
       "      <td>Maj</td>\n",
       "      <td>66</td>\n",
       "    </tr>\n",
       "    <tr>\n",
       "      <th>98</th>\n",
       "      <td>1978</td>\n",
       "      <td>99</td>\n",
       "      <td>\"Hollywood Nights\"</td>\n",
       "      <td>Bob Seger &amp; The Silver Bullet Band</td>\n",
       "      <td>Rock</td>\n",
       "      <td>13</td>\n",
       "      <td>12</td>\n",
       "      <td>Maj</td>\n",
       "      <td>150</td>\n",
       "    </tr>\n",
       "    <tr>\n",
       "      <th>99</th>\n",
       "      <td>1978</td>\n",
       "      <td>100</td>\n",
       "      <td>\"Deacon Blues\"</td>\n",
       "      <td>Steely Dan</td>\n",
       "      <td>Rock</td>\n",
       "      <td>16</td>\n",
       "      <td>19</td>\n",
       "      <td>Maj</td>\n",
       "      <td>114</td>\n",
       "    </tr>\n",
       "  </tbody>\n",
       "</table>\n",
       "</div>"
      ],
      "text/plain": [
       "    Year  Hot_Singles_Rank                     Title  \\\n",
       "90  1978                91       \"Native New Yorker\"   \n",
       "91  1978                92             \"Flash Light\"   \n",
       "92  1978                93         \"Don't Look Back\"   \n",
       "93  1978                94           \"Turn to Stone\"   \n",
       "94  1978                95  \"I Can't Stand the Rain\"   \n",
       "95  1978                96              \"Ebony Eyes\"   \n",
       "96  1978                97    \"The Name of the Game\"   \n",
       "97  1978                98         \"We're All Alone\"   \n",
       "98  1978                99        \"Hollywood Nights\"   \n",
       "99  1978               100            \"Deacon Blues\"   \n",
       "\n",
       "                                Artist     Genre Weeks_On_Chart  \\\n",
       "90                             Odyssey       Pop             19   \n",
       "91                          Parliament  R&B/Soul             16   \n",
       "92                              Boston      Rock             13   \n",
       "93            Electric Light Orchestra      Rock             15   \n",
       "94                            Eruption       Pop             22   \n",
       "95                           Bob Welch      Rock             17   \n",
       "96                                ABBA       Pop             16   \n",
       "97                       Rita Coolidge       Pop             20   \n",
       "98  Bob Seger & The Silver Bullet Band      Rock             13   \n",
       "99                          Steely Dan      Rock             16   \n",
       "\n",
       "    Peak_Chart_Position Maj_Min  BPM  \n",
       "90                   21     Maj  110  \n",
       "91                   16     Maj  106  \n",
       "92                    4     Maj  122  \n",
       "93                   13     Maj  138  \n",
       "94                   18     Maj  108  \n",
       "95                   14     Maj  118  \n",
       "96                   12     Maj   76  \n",
       "97                    7     Maj   66  \n",
       "98                   12     Maj  150  \n",
       "99                   19     Maj  114  "
      ]
     },
     "execution_count": 4,
     "metadata": {},
     "output_type": "execute_result"
    }
   ],
   "source": [
    "songs_1978.tail(10)"
   ]
  },
  {
   "cell_type": "markdown",
   "metadata": {},
   "source": [
    "**We are calling the .shape() function to recieve the number of rows and columns of the dataset which in this case is giving on line [5] output 100 = rows , 9 =columns**"
   ]
  },
  {
   "cell_type": "code",
   "execution_count": 5,
   "metadata": {},
   "outputs": [
    {
     "data": {
      "text/plain": [
       "(100, 9)"
      ]
     },
     "execution_count": 5,
     "metadata": {},
     "output_type": "execute_result"
    }
   ],
   "source": [
    "songs_1978.shape"
   ]
  },
  {
   "cell_type": "markdown",
   "metadata": {},
   "source": [
    "**the .info function gives us the names of the columns and the datatype of those columns, than gives use the count for the diffrent datasets at the bottom. \n",
    "*in this case there are 4 columns with 'integers' and 5 columns with 'objects' which usually refers to strings**"
   ]
  },
  {
   "cell_type": "code",
   "execution_count": 6,
   "metadata": {},
   "outputs": [
    {
     "name": "stdout",
     "output_type": "stream",
     "text": [
      "<class 'pandas.core.frame.DataFrame'>\n",
      "RangeIndex: 100 entries, 0 to 99\n",
      "Data columns (total 9 columns):\n",
      " #   Column               Non-Null Count  Dtype \n",
      "---  ------               --------------  ----- \n",
      " 0   Year                 100 non-null    int64 \n",
      " 1   Hot_Singles_Rank     100 non-null    int64 \n",
      " 2   Title                100 non-null    object\n",
      " 3   Artist               100 non-null    object\n",
      " 4   Genre                100 non-null    object\n",
      " 5   Weeks_On_Chart       100 non-null    object\n",
      " 6   Peak_Chart_Position  100 non-null    int64 \n",
      " 7   Maj_Min              100 non-null    object\n",
      " 8   BPM                  100 non-null    int64 \n",
      "dtypes: int64(4), object(5)\n",
      "memory usage: 7.2+ KB\n"
     ]
    }
   ],
   "source": [
    " songs_1978.info()"
   ]
  },
  {
   "cell_type": "markdown",
   "metadata": {},
   "source": [
    "**The .desrcibe() function gives the following data beleow:**"
   ]
  },
  {
   "cell_type": "code",
   "execution_count": 7,
   "metadata": {},
   "outputs": [
    {
     "data": {
      "text/html": [
       "<div>\n",
       "<style scoped>\n",
       "    .dataframe tbody tr th:only-of-type {\n",
       "        vertical-align: middle;\n",
       "    }\n",
       "\n",
       "    .dataframe tbody tr th {\n",
       "        vertical-align: top;\n",
       "    }\n",
       "\n",
       "    .dataframe thead th {\n",
       "        text-align: right;\n",
       "    }\n",
       "</style>\n",
       "<table border=\"1\" class=\"dataframe\">\n",
       "  <thead>\n",
       "    <tr style=\"text-align: right;\">\n",
       "      <th></th>\n",
       "      <th>Year</th>\n",
       "      <th>Hot_Singles_Rank</th>\n",
       "      <th>Peak_Chart_Position</th>\n",
       "      <th>BPM</th>\n",
       "    </tr>\n",
       "  </thead>\n",
       "  <tbody>\n",
       "    <tr>\n",
       "      <th>count</th>\n",
       "      <td>100.0</td>\n",
       "      <td>100.000000</td>\n",
       "      <td>100.000000</td>\n",
       "      <td>100.000000</td>\n",
       "    </tr>\n",
       "    <tr>\n",
       "      <th>mean</th>\n",
       "      <td>1978.0</td>\n",
       "      <td>50.500000</td>\n",
       "      <td>6.940000</td>\n",
       "      <td>107.700000</td>\n",
       "    </tr>\n",
       "    <tr>\n",
       "      <th>std</th>\n",
       "      <td>0.0</td>\n",
       "      <td>29.011492</td>\n",
       "      <td>5.112512</td>\n",
       "      <td>20.396821</td>\n",
       "    </tr>\n",
       "    <tr>\n",
       "      <th>min</th>\n",
       "      <td>1978.0</td>\n",
       "      <td>1.000000</td>\n",
       "      <td>1.000000</td>\n",
       "      <td>64.000000</td>\n",
       "    </tr>\n",
       "    <tr>\n",
       "      <th>25%</th>\n",
       "      <td>1978.0</td>\n",
       "      <td>25.750000</td>\n",
       "      <td>3.000000</td>\n",
       "      <td>96.000000</td>\n",
       "    </tr>\n",
       "    <tr>\n",
       "      <th>50%</th>\n",
       "      <td>1978.0</td>\n",
       "      <td>50.500000</td>\n",
       "      <td>6.000000</td>\n",
       "      <td>110.000000</td>\n",
       "    </tr>\n",
       "    <tr>\n",
       "      <th>75%</th>\n",
       "      <td>1978.0</td>\n",
       "      <td>75.250000</td>\n",
       "      <td>11.000000</td>\n",
       "      <td>122.000000</td>\n",
       "    </tr>\n",
       "    <tr>\n",
       "      <th>max</th>\n",
       "      <td>1978.0</td>\n",
       "      <td>100.000000</td>\n",
       "      <td>21.000000</td>\n",
       "      <td>156.000000</td>\n",
       "    </tr>\n",
       "  </tbody>\n",
       "</table>\n",
       "</div>"
      ],
      "text/plain": [
       "         Year  Hot_Singles_Rank  Peak_Chart_Position         BPM\n",
       "count   100.0        100.000000           100.000000  100.000000\n",
       "mean   1978.0         50.500000             6.940000  107.700000\n",
       "std       0.0         29.011492             5.112512   20.396821\n",
       "min    1978.0          1.000000             1.000000   64.000000\n",
       "25%    1978.0         25.750000             3.000000   96.000000\n",
       "50%    1978.0         50.500000             6.000000  110.000000\n",
       "75%    1978.0         75.250000            11.000000  122.000000\n",
       "max    1978.0        100.000000            21.000000  156.000000"
      ]
     },
     "execution_count": 7,
     "metadata": {},
     "output_type": "execute_result"
    }
   ],
   "source": [
    "songs_1978.describe()"
   ]
  },
  {
   "cell_type": "markdown",
   "metadata": {},
   "source": [
    "**the .iloc() allows you call a specfic cell in the dataset. Below we called these three items using the .iloc() fucntion by first inputing the row# and than the column#** "
   ]
  },
  {
   "cell_type": "code",
   "execution_count": 8,
   "metadata": {},
   "outputs": [
    {
     "data": {
      "text/plain": [
       "'Bee Gees'"
      ]
     },
     "execution_count": 8,
     "metadata": {},
     "output_type": "execute_result"
    }
   ],
   "source": [
    "songs_1978.iloc[1,3]"
   ]
  },
  {
   "cell_type": "code",
   "execution_count": 9,
   "metadata": {},
   "outputs": [
    {
     "data": {
      "text/plain": [
       "'Pop'"
      ]
     },
     "execution_count": 9,
     "metadata": {},
     "output_type": "execute_result"
    }
   ],
   "source": [
    "songs_1978.iloc[1,4]"
   ]
  },
  {
   "cell_type": "code",
   "execution_count": 10,
   "metadata": {},
   "outputs": [
    {
     "data": {
      "text/plain": [
       "'\"Thunder Island\"'"
      ]
     },
     "execution_count": 10,
     "metadata": {},
     "output_type": "execute_result"
    }
   ],
   "source": [
    "songs_1978.iloc[49,2]"
   ]
  },
  {
   "cell_type": "code",
   "execution_count": null,
   "metadata": {},
   "outputs": [],
   "source": []
  }
 ],
 "metadata": {
  "kernelspec": {
   "display_name": "Python 3",
   "language": "python",
   "name": "python3"
  },
  "language_info": {
   "codemirror_mode": {
    "name": "ipython",
    "version": 3
   },
   "file_extension": ".py",
   "mimetype": "text/x-python",
   "name": "python",
   "nbconvert_exporter": "python",
   "pygments_lexer": "ipython3",
   "version": "3.8.3"
  }
 },
 "nbformat": 4,
 "nbformat_minor": 4
}
